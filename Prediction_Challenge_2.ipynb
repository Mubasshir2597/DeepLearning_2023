{
  "cells": [
    {
      "cell_type": "code",
      "execution_count": null,
      "metadata": {
        "id": "Jlkv7OQaqXnF"
      },
      "outputs": [],
      "source": [
        "import os\n",
        "import numpy as np\n",
        "import matplotlib.pyplot as plt\n",
        "import tensorflow as tf\n",
        "from tensorflow.keras.preprocessing.image import ImageDataGenerator\n",
        "from tensorflow.keras.layers import Conv2D, MaxPooling2D, Dropout, Flatten, Dense\n",
        "from tensorflow.keras.optimizers import Adam\n",
        "\n",
        "import random\n"
      ]
    },
    {
      "cell_type": "code",
      "execution_count": null,
      "metadata": {
        "id": "rwualicio7Tz"
      },
      "outputs": [],
      "source": [
        "# Set the random seed\n",
        "seed_value = 100\n",
        "random.seed(seed_value)\n",
        "np.random.seed(seed_value)\n",
        "tf.random.set_seed(seed_value)"
      ]
    },
    {
      "cell_type": "code",
      "execution_count": null,
      "metadata": {
        "colab": {
          "base_uri": "https://localhost:8080/"
        },
        "id": "FdEO_va2qfhG",
        "outputId": "5d39198a-cece-4da8-95ac-66da0dcdc51e"
      },
      "outputs": [
        {
          "output_type": "stream",
          "name": "stdout",
          "text": [
            "Drive already mounted at /content/gdrive; to attempt to forcibly remount, call drive.mount(\"/content/gdrive\", force_remount=True).\n"
          ]
        }
      ],
      "source": [
        "# Mount Google Drive\n",
        "from google.colab import drive\n",
        "drive.mount('/content/gdrive')"
      ]
    },
    {
      "cell_type": "code",
      "source": [
        "import os\n",
        "import zipfile"
      ],
      "metadata": {
        "id": "0tvu6iotZUhw"
      },
      "execution_count": null,
      "outputs": []
    },
    {
      "cell_type": "code",
      "source": [
        "zip_ref = zipfile.ZipFile('/content/gdrive/MyDrive/dogs-vs-cats-vvsmall.zip', 'r')\n",
        "zip_ref.extractall('/tmp')\n",
        "zip_ref.close()"
      ],
      "metadata": {
        "id": "H_OzKvfOZUpX"
      },
      "execution_count": null,
      "outputs": []
    },
    {
      "cell_type": "code",
      "source": [
        "# Set data directories\n",
        "base_dir = ('/tmp/dogs-vs-cats-vvsmall')\n",
        "train_dir = os.path.join(base_dir,'train')\n",
        "validation_dir = os.path.join(base_dir,'validation')"
      ],
      "metadata": {
        "id": "zkkHRGC_ZUsf"
      },
      "execution_count": null,
      "outputs": []
    },
    {
      "cell_type": "code",
      "source": [
        "train_cat_dir = os.path.join(train_dir, 'cats')\n",
        "train_dog_dir = os.path.join(train_dir, 'dogs')\n",
        "validation_cat_dir = os.path.join(validation_dir, 'cats')\n",
        "validation_cat_dir = os.path.join(validation_dir, 'dogs')"
      ],
      "metadata": {
        "id": "obeP9K5Fckuo"
      },
      "execution_count": null,
      "outputs": []
    },
    {
      "cell_type": "code",
      "execution_count": null,
      "metadata": {
        "id": "Hqb6xoHuZKom"
      },
      "outputs": [],
      "source": [
        " ''' # unzip file\n",
        "import shutil\n",
        "shutil.unpack_archive('/content/gdrive/MyDrive/Colab Notebooks/train.zip') '''"
      ]
    },
    {
      "cell_type": "code",
      "execution_count": null,
      "metadata": {
        "id": "HhWZT0J3ZL_m"
      },
      "outputs": [],
      "source": [
        " ''' # unzip file\n",
        "import shutil\n",
        "shutil.unpack_archive('/content/gdrive/MyDrive/Colab Notebooks/validation.zip') '''"
      ]
    },
    {
      "cell_type": "code",
      "execution_count": null,
      "metadata": {
        "id": "0jBMFQqyqfju"
      },
      "outputs": [],
      "source": [
        "''' # Set data directories\n",
        "train_dir = ('/content/train')\n",
        "validation_dir = ('/content/validation')  '''"
      ]
    },
    {
      "cell_type": "code",
      "execution_count": null,
      "metadata": {
        "id": "nkOMNOXXqfmN"
      },
      "outputs": [],
      "source": [
        "# Set image dimensions and batch size\n",
        "img_width = 150\n",
        "img_height = 150\n",
        "batch_size = 128"
      ]
    },
    {
      "cell_type": "markdown",
      "metadata": {
        "id": "0O3jp4jVOS7S"
      },
      "source": [
        "##Data Augmentation"
      ]
    },
    {
      "cell_type": "code",
      "execution_count": null,
      "metadata": {
        "id": "Pq-IpoOWqfoV"
      },
      "outputs": [],
      "source": [
        "\n",
        "# Data augmentation\n",
        "train_datagen = ImageDataGenerator(\n",
        "    rescale=1./255,\n",
        "    rotation_range=20,\n",
        "    width_shift_range=0.2,\n",
        "    height_shift_range=0.2,\n",
        "    shear_range=0.2,\n",
        "    zoom_range=0.2,\n",
        "    horizontal_flip=True\n",
        ")"
      ]
    },
    {
      "cell_type": "markdown",
      "source": [
        "This code initializes an instance of the ImageDataGenerator class from the Keras library, which is used for data augmentation on images during training. The parameters passed to the ImageDataGenerator specify the types of augmentations to apply to the images.\n",
        "\n",
        "1. The 'rescale' parameter rescales the pixel values of the images to be in the range of [0,1].\n",
        "\n",
        "\n",
        "2. The 'rotation_range' parameter specifies the range of degrees to randomly rotate the image.\n",
        "\n",
        "3. The 'width_shift_range' and 'height_shift_range' parameters specify the range of values to randomly shift the image horizontally and vertically, respectively.\n",
        "\n",
        "4. The 'shear_range' parameter specifies the range of shearing angles to apply to the image.\n",
        "\n",
        "5. The 'zoom_range' parameter specifies the range of zoom levels to apply to the image.\n",
        "\n",
        "6. The 'horizontal_flip' parameter specifies whether or not to randomly flip the image horizontally.\n",
        "\n",
        "\n",
        "\n",
        "\n",
        "By applying these augmentations, the ImageDataGenerator creates new images from the original dataset, which increases the size of the training set and allows the CNN to learn more robust and generalized features."
      ],
      "metadata": {
        "id": "kYNrRbeq4Trm"
      }
    },
    {
      "cell_type": "code",
      "execution_count": null,
      "metadata": {
        "colab": {
          "base_uri": "https://localhost:8080/"
        },
        "id": "ORnijIubqfqd",
        "outputId": "82e2f662-9805-4c6a-8e87-27e489369ac4"
      },
      "outputs": [
        {
          "output_type": "stream",
          "name": "stdout",
          "text": [
            "Found 6000 images belonging to 2 classes.\n",
            "Found 1800 images belonging to 2 classes.\n"
          ]
        }
      ],
      "source": [
        "validation_datagen = ImageDataGenerator(rescale=1./255)\n",
        "\n",
        "# Load training and validation data\n",
        "train_data = train_datagen.flow_from_directory(\n",
        "    train_dir,\n",
        "    target_size=(img_width, img_height),\n",
        "    batch_size=batch_size,\n",
        "    class_mode='binary'\n",
        ")\n",
        "validation_data = validation_datagen.flow_from_directory(\n",
        "    validation_dir,\n",
        "    target_size=(img_width, img_height),\n",
        "    batch_size=batch_size,\n",
        "    class_mode='binary'\n",
        ")"
      ]
    },
    {
      "cell_type": "markdown",
      "source": [
        "This code segment is used to prepare the training and validation data for training a Convolutional Neural Network (CNN) model for image classification. The code uses the Keras ImageDataGenerator class to generate batches of augmented images from the directories containing the training and validation data.\n",
        "\n",
        "The first line of the code initializes the validation_datagen object, which applies a rescaling transformation to the images to normalize their pixel values to a range of [0, 1]. This normalization helps in training the CNN model effectively.\n",
        "\n",
        "The second and third lines of code use the train_datagen object to generate batches of training data. The train_datagen object applies various data augmentation techniques to the training images like rescaling, rotation, zooming, flipping, etc. to generate more diverse training examples. The method \"flow_from_directory()\" reads the images from the \"train_dir\" directory and converts them into a set of numpy arrays that can be fed into the CNN model during training. It also specifies the target size of the images and the batch size.\n",
        "\n",
        "Similarly, the fourth and fifth lines of code use the validation_datagen object to generate batches of validation data. The \"flow_from_directory()\" method reads the images from the \"validation_dir\" directory and generates validation batches. It also specifies the target size of the images and the batch size.\n",
        "\n",
        "Finally, the \"class_mode\" argument is set to 'binary', as the dataset used in this code contains only two classes (cats and dogs). If there were multiple classes, we would have used 'categorical' as the class_mode."
      ],
      "metadata": {
        "id": "g0avuNUl4-29"
      }
    },
    {
      "cell_type": "code",
      "execution_count": null,
      "metadata": {
        "id": "F4EUKO4zqfsm"
      },
      "outputs": [],
      "source": [
        "from tensorflow.keras.models import Sequential\n",
        "from tensorflow.keras import layers\n",
        "\n",
        "# Define the model architecture\n",
        "model = Sequential([\n",
        "    Conv2D(32, (3, 3), activation='relu', input_shape=(img_width, img_height, 3)),\n",
        "    MaxPooling2D((2, 2)),\n",
        "    Conv2D(64, (3, 3), activation='relu'),\n",
        "    MaxPooling2D((2, 2)),\n",
        "    Conv2D(128, (3, 3), activation='relu'),\n",
        "    MaxPooling2D((2, 2)),\n",
        "    Conv2D(128, (3, 3), activation='relu'),\n",
        "    MaxPooling2D((2, 2)),\n",
        "    Flatten(),\n",
        "    Dense(512, activation='relu'),\n",
        "    Dropout(0.5),\n",
        "    Dense(1, activation='sigmoid')\n",
        "])\n"
      ]
    },
    {
      "cell_type": "markdown",
      "source": [
        "This code defines the architecture of a Convolutional Neural Network (CNN) for binary image classification using the Keras API in TensorFlow.\n",
        "\n",
        "The model has the following layers:\n",
        "\n",
        "Conv2D: This layer creates 32 filters with a size of 3x3 and applies the ReLU activation function to the input image. The input shape is defined as (img_width, img_height, 3), which represents the width, height, and number of channels (RGB) of the input image.\n",
        "\n",
        "MaxPooling2D: This layer downsamples the output of the previous layer by taking the maximum value in each 2x2 region.\n",
        "\n",
        "Conv2D: This layer creates 64 filters with a size of 3x3 and applies the ReLU activation function to the input from the previous layer.\n",
        "\n",
        "MaxPooling2D: This layer again downsamples the output of the previous layer.\n",
        "\n",
        "Conv2D: This layer creates 128 filters with a size of 3x3 and applies the ReLU activation function.\n",
        "\n",
        "MaxPooling2D: This layer downsamples the output of the previous layer.\n",
        "\n",
        "Conv2D: This layer creates 128 filters with a size of 3x3 and applies the ReLU activation function.\n",
        "\n",
        "MaxPooling2D: This layer again downsamples the output of the previous layer.\n",
        "\n",
        "Flatten: This layer flattens the output of the previous layer, converting it into a 1-dimensional vector.\n",
        "\n",
        "Dense: This layer has 512 neurons and applies the ReLU activation function.\n",
        "\n",
        "Dropout: This layer randomly drops 50% of the neurons in the previous layer during training to prevent overfitting.\n",
        "\n",
        "Dense: This layer has a single neuron and applies the sigmoid activation function, which outputs a value between 0 and 1 representing the predicted probability of the input image belonging to the positive class (in this case, a dog or a cat).\n",
        "\n",
        "Overall, this model is designed to learn hierarchical features from the input image using convolutional layers and downsample them using pooling layers, followed by a fully connected neural network that outputs the final binary classification."
      ],
      "metadata": {
        "id": "fqqYahW45W_H"
      }
    },
    {
      "cell_type": "code",
      "execution_count": null,
      "metadata": {
        "colab": {
          "base_uri": "https://localhost:8080/"
        },
        "id": "K9906chbcnHl",
        "outputId": "f910b2a4-3e4f-40fa-f081-34e6d7e90fff"
      },
      "outputs": [
        {
          "output_type": "stream",
          "name": "stdout",
          "text": [
            "Model: \"sequential_1\"\n",
            "_________________________________________________________________\n",
            " Layer (type)                Output Shape              Param #   \n",
            "=================================================================\n",
            " conv2d_4 (Conv2D)           (None, 148, 148, 32)      896       \n",
            "                                                                 \n",
            " max_pooling2d_4 (MaxPooling  (None, 74, 74, 32)       0         \n",
            " 2D)                                                             \n",
            "                                                                 \n",
            " conv2d_5 (Conv2D)           (None, 72, 72, 64)        18496     \n",
            "                                                                 \n",
            " max_pooling2d_5 (MaxPooling  (None, 36, 36, 64)       0         \n",
            " 2D)                                                             \n",
            "                                                                 \n",
            " conv2d_6 (Conv2D)           (None, 34, 34, 128)       73856     \n",
            "                                                                 \n",
            " max_pooling2d_6 (MaxPooling  (None, 17, 17, 128)      0         \n",
            " 2D)                                                             \n",
            "                                                                 \n",
            " conv2d_7 (Conv2D)           (None, 15, 15, 128)       147584    \n",
            "                                                                 \n",
            " max_pooling2d_7 (MaxPooling  (None, 7, 7, 128)        0         \n",
            " 2D)                                                             \n",
            "                                                                 \n",
            " flatten_1 (Flatten)         (None, 6272)              0         \n",
            "                                                                 \n",
            " dense_2 (Dense)             (None, 512)               3211776   \n",
            "                                                                 \n",
            " dropout_1 (Dropout)         (None, 512)               0         \n",
            "                                                                 \n",
            " dense_3 (Dense)             (None, 1)                 513       \n",
            "                                                                 \n",
            "=================================================================\n",
            "Total params: 3,453,121\n",
            "Trainable params: 3,453,121\n",
            "Non-trainable params: 0\n",
            "_________________________________________________________________\n"
          ]
        }
      ],
      "source": [
        "model.summary()"
      ]
    },
    {
      "cell_type": "code",
      "execution_count": null,
      "metadata": {
        "colab": {
          "base_uri": "https://localhost:8080/"
        },
        "id": "nie_NPx3qful",
        "outputId": "00754402-16f1-4f5d-b8b2-f865ac9820bd"
      },
      "outputs": [
        {
          "output_type": "stream",
          "name": "stderr",
          "text": [
            "WARNING:absl:`lr` is deprecated, please use `learning_rate` instead, or use the legacy optimizer, e.g.,tf.keras.optimizers.legacy.Adam.\n"
          ]
        }
      ],
      "source": [
        "# Compile the model\n",
        "model.compile(\n",
        "    loss='binary_crossentropy',\n",
        "    optimizer=Adam(lr=1e-4),\n",
        "    metrics=['accuracy']\n",
        ")"
      ]
    },
    {
      "cell_type": "markdown",
      "source": [
        "This code block is used to compile a neural network model.\n",
        "\n",
        "The loss parameter specifies the loss function to be used during training. In this case, the binary crossentropy loss function is used, which is commonly used for binary classification problems.\n",
        "\n",
        "The optimizer parameter specifies the optimization algorithm to be used during training. In this case, the Adam optimizer is used with a learning rate of 0.0001. The Adam optimizer is a popular optimization algorithm that is used to efficiently optimize the weights of the neural network during training.\n",
        "\n",
        "The metrics parameter specifies the evaluation metric to be used during training and testing. In this case, the model's accuracy is used as the evaluation metric.\n",
        "\n",
        "Overall, this code block sets up the neural network model for training and specifies the loss function, optimizer, and evaluation metric to be used.\n",
        "\n",
        "\n",
        "\n",
        "\n",
        "\n"
      ],
      "metadata": {
        "id": "-sxydQfu599F"
      }
    },
    {
      "cell_type": "code",
      "execution_count": null,
      "metadata": {
        "colab": {
          "base_uri": "https://localhost:8080/"
        },
        "id": "_HfVOeF-qfyn",
        "outputId": "2b4842a1-cc8b-4fd9-e8d0-4bde7c1c98ca"
      },
      "outputs": [
        {
          "output_type": "stream",
          "name": "stdout",
          "text": [
            "Epoch 1/50\n",
            "46/46 [==============================] - 413s 9s/step - loss: 0.7105 - accuracy: 0.5186 - val_loss: 0.6835 - val_accuracy: 0.5943\n",
            "Epoch 2/50\n",
            "46/46 [==============================] - 409s 9s/step - loss: 0.6766 - accuracy: 0.5787 - val_loss: 0.6579 - val_accuracy: 0.5926\n",
            "Epoch 3/50\n",
            "46/46 [==============================] - 417s 9s/step - loss: 0.6615 - accuracy: 0.6005 - val_loss: 0.6678 - val_accuracy: 0.5748\n",
            "Epoch 4/50\n",
            "46/46 [==============================] - 408s 9s/step - loss: 0.6526 - accuracy: 0.6114 - val_loss: 0.6238 - val_accuracy: 0.6479\n",
            "Epoch 5/50\n",
            "46/46 [==============================] - 410s 9s/step - loss: 0.6351 - accuracy: 0.6350 - val_loss: 0.5824 - val_accuracy: 0.6802\n",
            "Epoch 6/50\n",
            "46/46 [==============================] - 414s 9s/step - loss: 0.6262 - accuracy: 0.6568 - val_loss: 0.5965 - val_accuracy: 0.7165\n",
            "Epoch 7/50\n",
            "46/46 [==============================] - 416s 9s/step - loss: 0.5905 - accuracy: 0.6861 - val_loss: 0.5471 - val_accuracy: 0.7126\n",
            "Epoch 8/50\n",
            "46/46 [==============================] - 398s 9s/step - loss: 0.5793 - accuracy: 0.6967 - val_loss: 0.5262 - val_accuracy: 0.7327\n",
            "Epoch 9/50\n",
            "46/46 [==============================] - 407s 9s/step - loss: 0.5674 - accuracy: 0.7117 - val_loss: 0.5010 - val_accuracy: 0.7679\n",
            "Epoch 10/50\n",
            "46/46 [==============================] - 407s 9s/step - loss: 0.5510 - accuracy: 0.7209 - val_loss: 0.4751 - val_accuracy: 0.7673\n",
            "Epoch 11/50\n",
            "46/46 [==============================] - 408s 9s/step - loss: 0.5346 - accuracy: 0.7354 - val_loss: 0.4623 - val_accuracy: 0.7734\n",
            "Epoch 12/50\n",
            "46/46 [==============================] - 406s 9s/step - loss: 0.5194 - accuracy: 0.7439 - val_loss: 0.4677 - val_accuracy: 0.7651\n",
            "Epoch 13/50\n",
            "46/46 [==============================] - 399s 9s/step - loss: 0.5164 - accuracy: 0.7463 - val_loss: 0.4665 - val_accuracy: 0.7812\n",
            "Epoch 14/50\n",
            "46/46 [==============================] - 399s 9s/step - loss: 0.5059 - accuracy: 0.7541 - val_loss: 0.4591 - val_accuracy: 0.7902\n",
            "Epoch 15/50\n",
            "46/46 [==============================] - 405s 9s/step - loss: 0.4983 - accuracy: 0.7549 - val_loss: 0.4375 - val_accuracy: 0.7902\n",
            "Epoch 16/50\n",
            "46/46 [==============================] - 412s 9s/step - loss: 0.4834 - accuracy: 0.7725 - val_loss: 0.4252 - val_accuracy: 0.8097\n",
            "Epoch 17/50\n",
            "46/46 [==============================] - 420s 9s/step - loss: 0.4612 - accuracy: 0.7791 - val_loss: 0.4325 - val_accuracy: 0.8025\n",
            "Epoch 18/50\n",
            "46/46 [==============================] - 425s 9s/step - loss: 0.4730 - accuracy: 0.7750 - val_loss: 0.4228 - val_accuracy: 0.8158\n",
            "Epoch 19/50\n",
            "46/46 [==============================] - 399s 9s/step - loss: 0.4676 - accuracy: 0.7808 - val_loss: 0.4345 - val_accuracy: 0.8069\n",
            "Epoch 20/50\n",
            "46/46 [==============================] - 398s 9s/step - loss: 0.4702 - accuracy: 0.7716 - val_loss: 0.4435 - val_accuracy: 0.7891\n",
            "Epoch 21/50\n",
            "46/46 [==============================] - 404s 9s/step - loss: 0.4626 - accuracy: 0.7798 - val_loss: 0.4129 - val_accuracy: 0.8181\n",
            "Epoch 22/50\n",
            "46/46 [==============================] - 397s 9s/step - loss: 0.4242 - accuracy: 0.8106 - val_loss: 0.3775 - val_accuracy: 0.8315\n",
            "Epoch 23/50\n",
            "46/46 [==============================] - 397s 9s/step - loss: 0.4194 - accuracy: 0.8089 - val_loss: 0.3802 - val_accuracy: 0.8270\n",
            "Epoch 24/50\n",
            "46/46 [==============================] - 405s 9s/step - loss: 0.4190 - accuracy: 0.8038 - val_loss: 0.3706 - val_accuracy: 0.8365\n",
            "Epoch 25/50\n",
            "46/46 [==============================] - 403s 9s/step - loss: 0.3995 - accuracy: 0.8191 - val_loss: 0.4247 - val_accuracy: 0.8136\n",
            "Epoch 26/50\n",
            "46/46 [==============================] - 406s 9s/step - loss: 0.3904 - accuracy: 0.8217 - val_loss: 0.3760 - val_accuracy: 0.8365\n",
            "Epoch 27/50\n",
            "46/46 [==============================] - 406s 9s/step - loss: 0.3786 - accuracy: 0.8290 - val_loss: 0.3606 - val_accuracy: 0.8326\n",
            "Epoch 28/50\n",
            "46/46 [==============================] - 403s 9s/step - loss: 0.3686 - accuracy: 0.8420 - val_loss: 0.3423 - val_accuracy: 0.8544\n",
            "Epoch 29/50\n",
            "46/46 [==============================] - 402s 9s/step - loss: 0.3732 - accuracy: 0.8311 - val_loss: 0.3592 - val_accuracy: 0.8527\n",
            "Epoch 30/50\n",
            "46/46 [==============================] - 406s 9s/step - loss: 0.3825 - accuracy: 0.8295 - val_loss: 0.3349 - val_accuracy: 0.8532\n",
            "Epoch 31/50\n",
            "46/46 [==============================] - 392s 9s/step - loss: 0.3646 - accuracy: 0.8346 - val_loss: 0.3353 - val_accuracy: 0.8616\n",
            "Epoch 32/50\n",
            "46/46 [==============================] - 400s 9s/step - loss: 0.3410 - accuracy: 0.8527 - val_loss: 0.3610 - val_accuracy: 0.8482\n",
            "Epoch 33/50\n",
            "46/46 [==============================] - 401s 9s/step - loss: 0.3483 - accuracy: 0.8472 - val_loss: 0.3268 - val_accuracy: 0.8638\n",
            "Epoch 34/50\n",
            "46/46 [==============================] - 403s 9s/step - loss: 0.3275 - accuracy: 0.8615 - val_loss: 0.3350 - val_accuracy: 0.8655\n",
            "Epoch 35/50\n",
            "46/46 [==============================] - 403s 9s/step - loss: 0.3264 - accuracy: 0.8575 - val_loss: 0.3139 - val_accuracy: 0.8655\n",
            "Epoch 36/50\n",
            "46/46 [==============================] - 404s 9s/step - loss: 0.3164 - accuracy: 0.8631 - val_loss: 0.3044 - val_accuracy: 0.8689\n",
            "Epoch 37/50\n",
            "46/46 [==============================] - 403s 9s/step - loss: 0.3275 - accuracy: 0.8559 - val_loss: 0.2916 - val_accuracy: 0.8722\n",
            "Epoch 38/50\n",
            "46/46 [==============================] - 402s 9s/step - loss: 0.3076 - accuracy: 0.8661 - val_loss: 0.2895 - val_accuracy: 0.8828\n",
            "Epoch 39/50\n",
            "46/46 [==============================] - 405s 9s/step - loss: 0.2960 - accuracy: 0.8677 - val_loss: 0.3047 - val_accuracy: 0.8717\n",
            "Epoch 40/50\n",
            "46/46 [==============================] - 393s 9s/step - loss: 0.2905 - accuracy: 0.8787 - val_loss: 0.2763 - val_accuracy: 0.8783\n",
            "Epoch 41/50\n",
            "46/46 [==============================] - 403s 9s/step - loss: 0.2831 - accuracy: 0.8803 - val_loss: 0.3007 - val_accuracy: 0.8800\n",
            "Epoch 42/50\n",
            "46/46 [==============================] - 402s 9s/step - loss: 0.2924 - accuracy: 0.8760 - val_loss: 0.2738 - val_accuracy: 0.8906\n",
            "Epoch 43/50\n",
            "46/46 [==============================] - 403s 9s/step - loss: 0.2857 - accuracy: 0.8770 - val_loss: 0.3751 - val_accuracy: 0.8387\n",
            "Epoch 44/50\n",
            "46/46 [==============================] - 402s 9s/step - loss: 0.2766 - accuracy: 0.8798 - val_loss: 0.2775 - val_accuracy: 0.8940\n",
            "Epoch 45/50\n",
            "46/46 [==============================] - 395s 9s/step - loss: 0.2762 - accuracy: 0.8859 - val_loss: 0.2682 - val_accuracy: 0.8968\n",
            "Epoch 46/50\n",
            "46/46 [==============================] - 393s 9s/step - loss: 0.2577 - accuracy: 0.8937 - val_loss: 0.2717 - val_accuracy: 0.8862\n",
            "Epoch 47/50\n",
            "46/46 [==============================] - 402s 9s/step - loss: 0.2603 - accuracy: 0.8905 - val_loss: 0.2777 - val_accuracy: 0.8929\n",
            "Epoch 48/50\n",
            "46/46 [==============================] - 404s 9s/step - loss: 0.2559 - accuracy: 0.8951 - val_loss: 0.3331 - val_accuracy: 0.8756\n",
            "Epoch 49/50\n",
            "46/46 [==============================] - 405s 9s/step - loss: 0.2537 - accuracy: 0.8925 - val_loss: 0.2617 - val_accuracy: 0.8917\n",
            "Epoch 50/50\n",
            "46/46 [==============================] - 393s 9s/step - loss: 0.2435 - accuracy: 0.8959 - val_loss: 0.2633 - val_accuracy: 0.8945\n"
          ]
        }
      ],
      "source": [
        "# Train the model\n",
        "epochs = 50\n",
        "history = model.fit(\n",
        "    train_data,\n",
        "    steps_per_epoch=train_data.samples // batch_size,\n",
        "    epochs=epochs,\n",
        "    validation_data=validation_data,\n",
        "    validation_steps=validation_data.samples // batch_size\n",
        ")"
      ]
    },
    {
      "cell_type": "markdown",
      "source": [
        "This code trains a deep learning model using the Keras API. The model is trained on a dataset that has been preprocessed and prepared as a generator using the ImageDataGenerator class from the Keras API.\n",
        "\n",
        "The training is done using the fit method of the model object, which takes the following arguments:\n",
        "\n",
        "train_data: The training dataset generator object.\n",
        "steps_per_epoch: The number of steps (batches) per epoch. This is calculated by dividing the total number of training examples by the batch size.\n",
        "epochs: The number of times to iterate over the entire training dataset.\n",
        "validation_data: The validation dataset generator object.\n",
        "validation_steps: The number of steps (batches) per epoch for the validation dataset. This is calculated by dividing the total number of validation examples by the batch size.\n",
        "The fit method trains the model for the specified number of epochs, optimizing the model parameters to minimize the loss function, which is defined during model compilation. The training and validation accuracy and loss are monitored and recorded in the history object, which is returned by the fit method after training.\n",
        "\n",
        "The number of epochs used for training is specified by the epochs variable, which is set to 50 in this code snippet. Increasing the number of epochs can improve the accuracy of the model, but may also increase the risk of overfitting. The model should be evaluated on a separate test set to check for overfitting and ensure that the model generalizes well to unseen data."
      ],
      "metadata": {
        "id": "4qx6-0Uq6XvW"
      }
    },
    {
      "cell_type": "code",
      "execution_count": null,
      "metadata": {
        "colab": {
          "base_uri": "https://localhost:8080/"
        },
        "id": "tmLGryjNYYfB",
        "outputId": "af62ca69-647e-4525-c090-60314c7a2c49"
      },
      "outputs": [
        {
          "output_type": "stream",
          "name": "stdout",
          "text": [
            "Training loss: 0.24354322254657745\n",
            "Training accuracy: 0.8959468603134155\n"
          ]
        }
      ],
      "source": [
        "# Print the training accuracy and loss for each epoch\n",
        "print('Training loss:', history.history['loss'][-1])\n",
        "print('Training accuracy:', history.history['accuracy'][-1])"
      ]
    },
    {
      "cell_type": "markdown",
      "source": [
        "This code is used to print the training accuracy and loss for each epoch of a trained neural network model.\n",
        "\n",
        "The history object is the output of the fit() method of the Sequential model in Keras, which contains information about the training process. history.history is a dictionary that contains the training and validation loss and accuracy values for each epoch during training.\n",
        "\n",
        "history.history['loss'][-1] retrieves the training loss value for the last epoch, which is the final training loss of the model. Similarly, history.history['accuracy'][-1] retrieves the training accuracy value for the last epoch, which is the final training accuracy of the model.\n",
        "\n",
        "By printing the training loss and accuracy for each epoch, we can visualize the training progress of the model and detect potential issues such as overfitting or underfitting. If the training loss decreases but the validation loss increases, the model may be overfitting the training data. Conversely, if both the training and validation loss values are high, the model may be underfitting the data."
      ],
      "metadata": {
        "id": "2X-WCLOv6xgu"
      }
    },
    {
      "cell_type": "code",
      "execution_count": null,
      "metadata": {
        "colab": {
          "base_uri": "https://localhost:8080/"
        },
        "id": "OT5_TQ2UWDhM",
        "outputId": "1a67aece-00ee-4925-b5da-b1a99f8ce697"
      },
      "outputs": [
        {
          "output_type": "stream",
          "name": "stdout",
          "text": [
            "14/14 [==============================] - 33s 2s/step - loss: 0.2641 - accuracy: 0.8940\n",
            "Validation loss: 0.2640940248966217\n",
            "Validation accuracy: 0.8939732313156128\n"
          ]
        }
      ],
      "source": [
        "# Evaluate the model on the validation dataset\n",
        "val_loss, val_acc = model.evaluate(validation_data, steps=validation_data.samples // batch_size)\n",
        "print('Validation loss:', val_loss)\n",
        "print('Validation accuracy:', val_acc)\n"
      ]
    },
    {
      "cell_type": "markdown",
      "source": [
        "This code evaluates a trained machine learning model on a validation dataset and prints out the validation loss and validation accuracy of the model.\n",
        "\n",
        "The first line of code uses the evaluate function of the trained model to calculate the validation loss and validation accuracy on the validation dataset. The validation_data parameter is the validation dataset, which is usually separate from the training dataset and is used to evaluate the performance of the model on unseen data. The steps parameter specifies the number of steps (batches) to evaluate the validation data. The batch_size parameter is the number of samples in each batch.\n",
        "\n",
        "The second line of code prints out the validation loss, which is a measure of how well the model is able to minimize the difference between the predicted output and the actual output on the validation dataset. A lower validation loss indicates better performance.\n",
        "\n",
        "The third line of code prints out the validation accuracy, which is the percentage of correctly classified images on the validation dataset. A higher validation accuracy indicates better performance.\n",
        "\n",
        "Overall, this code is used to evaluate the performance of a trained machine learning model on a validation dataset and provides important metrics to assess the model's accuracy and generalization ability."
      ],
      "metadata": {
        "id": "vyagqWPS7C8l"
      }
    },
    {
      "cell_type": "code",
      "execution_count": null,
      "metadata": {
        "colab": {
          "base_uri": "https://localhost:8080/",
          "height": 573
        },
        "id": "nL8pWYwtqf2F",
        "outputId": "f11968dc-1140-42ef-a050-d24652f65187"
      },
      "outputs": [
        {
          "output_type": "display_data",
          "data": {
            "text/plain": [
              "<Figure size 432x288 with 1 Axes>"
            ],
            "image/png": "[encoded data removed]"
          },
          "metadata": {
            "needs_background": "light"
          }
        },
        {
          "output_type": "display_data",
          "data": {
            "text/plain": [
              "<Figure size 432x288 with 1 Axes>"
            ],
            "image/png": "[encoded data removed]"
          },
          "metadata": {
            "needs_background": "light"
          }
        }
      ],
      "source": [
        "# summarize the history for accuracy\n",
        "plt.plot(history.history['accuracy'])\n",
        "plt.plot(history.history['val_accuracy'])\n",
        "plt.title('model accuracy')\n",
        "plt.ylabel('accuracy')\n",
        "plt.xlabel('epoch')\n",
        "plt.legend(['train','test'], loc='upper left')\n",
        "plt.show()\n",
        "\n",
        "# summarize the history for loss\n",
        "plt.plot(history.history['loss'])\n",
        "plt.plot(history.history['val_loss'])\n",
        "plt.title('model loss')\n",
        "plt.ylabel('loss')\n",
        "plt.xlabel('epoch')\n",
        "plt.legend(['train','test'], loc='upper left')\n",
        "plt.show()"
      ]
    },
    {
      "cell_type": "markdown",
      "source": [
        "This code is used to plot the history of the accuracy and loss of a trained model. The history object is a dictionary containing the training and validation loss and accuracy values for each epoch of the model training.\n",
        "\n",
        "The first block of code uses the plot() function of the matplotlib library to create a line plot of the training and validation accuracy over each epoch. The title(), ylabel(), xlabel(), and legend() functions are used to set the title, axis labels, and legend for the plot.\n",
        "\n",
        "The second block of code uses the plot() function to create a line plot of the training and validation loss over each epoch. The same functions are used to set the title, axis labels, and legend for the plot.\n",
        "\n",
        "By visualizing the history of the accuracy and loss during training, we can get insights into the performance of the model and identify any issues such as overfitting or underfitting. We want to see the training and validation accuracy increase and converge over time, while the loss decreases and stabilizes. If the validation accuracy stops improving or starts decreasing while the training accuracy is still improving, the model may be overfitting. If the training and validation accuracy are both low, the model may be underfitting."
      ],
      "metadata": {
        "id": "g6V9jJRW7W4H"
      }
    }
  ],
  "metadata": {
    "colab": {
      "provenance": []
    },
    "gpuClass": "standard",
    "kernelspec": {
      "display_name": "Python 3",
      "name": "python3"
    },
    "language_info": {
      "name": "python"
    }
  },
  "nbformat": 4,
  "nbformat_minor": 0
}