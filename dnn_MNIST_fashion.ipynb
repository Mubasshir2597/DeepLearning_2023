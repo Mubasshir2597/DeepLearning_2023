{
  "cells": [
    {
      "cell_type": "code",
      "execution_count": null,
      "metadata": {
        "id": "9EpFEBJANKMx"
      },
      "outputs": [],
      "source": [
        "import tensorflow as tf\n",
        "from tensorflow import keras\n",
        "from tensorflow.keras import layers\n",
        "import matplotlib.pyplot as plt\n",
        "import numpy as np"
      ]
    },
    {
      "cell_type": "code",
      "execution_count": null,
      "metadata": {
        "id": "EwFBYz9YJwDK"
      },
      "outputs": [],
      "source": [
        "# set the random seed for reproducibility\n",
        "np.random.seed(100)\n",
        "tf.random.set_seed(100)"
      ]
    },
    {
      "cell_type": "code",
      "execution_count": null,
      "metadata": {
        "colab": {
          "base_uri": "https://localhost:8080/"
        },
        "id": "siP8oddmjx2m",
        "outputId": "494d1eb1-4f7a-4818-fe79-eef2ea6aeea6"
      },
      "outputs": [
        {
          "output_type": "stream",
          "name": "stdout",
          "text": [
            "Downloading data from https://storage.googleapis.com/tensorflow/tf-keras-datasets/train-labels-idx1-ubyte.gz\n",
            "29515/29515 [==============================] - 0s 0us/step\n",
            "Downloading data from https://storage.googleapis.com/tensorflow/tf-keras-datasets/train-images-idx3-ubyte.gz\n",
            "26421880/26421880 [==============================] - 0s 0us/step\n",
            "Downloading data from https://storage.googleapis.com/tensorflow/tf-keras-datasets/t10k-labels-idx1-ubyte.gz\n",
            "5148/5148 [==============================] - 0s 0us/step\n",
            "Downloading data from https://storage.googleapis.com/tensorflow/tf-keras-datasets/t10k-images-idx3-ubyte.gz\n",
            "4422102/4422102 [==============================] - 0s 0us/step\n"
          ]
        }
      ],
      "source": [
        "# Load the Fashion MNIST dataset\n",
        "(x_train, y_train), (x_test, y_test) = keras.datasets.fashion_mnist.load_data()\n",
        "\n",
        "# Preprocess the data by scaling the pixel values to the range [0, 1]\n",
        "x_train = x_train.astype(\"float32\") / 255.0\n",
        "x_test = x_test.astype(\"float32\") / 255.0\n",
        "\n",
        "# Convert the labels to one-hot encoded vectors\n",
        "y_train = keras.utils.to_categorical(y_train, 10)\n",
        "y_test = keras.utils.to_categorical(y_test, 10)\n"
      ]
    },
    {
      "cell_type": "markdown",
      "source": [
        "This code loads the Fashion MNIST dataset, which consists of 60,000 grayscale images of 10 different clothing categories for training, and 10,000 images for testing.\n",
        "\n",
        "Next, it preprocesses the data by scaling the pixel values of the images to be between 0 and 1, by dividing each pixel value by 255.0, which is the maximum pixel value.\n",
        "\n",
        "Then, the labels of the data are converted from integer form (0 to 9) to one-hot encoded vectors, which means that each label is represented as a vector of length 10, with all elements being 0 except for the element corresponding to the label, which is 1. This is done using the to_categorical function from keras.utils.\n",
        "\n",
        "The resulting training data x_train is a 3D array of shape (60000, 28, 28), where each element is an image of size 28x28 pixels. The labels y_train is a 2D array of shape (60000, 10), where each row is a one-hot encoded vector representing the label of the corresponding image in x_train.\n",
        "\n",
        "Similarly, the testing data x_test is a 3D array of shape (10000, 28, 28), and y_test is a 2D array of shape (10000, 10)."
      ],
      "metadata": {
        "id": "YuLt5jWyHsKc"
      }
    },
    {
      "cell_type": "markdown",
      "source": [
        "Before we can feed this data into a neural network, we need to convert it into a 1-dimensional array, which can be accomplished using the Flatten layer. The Flatten layer takes the multidimensional input data and reshapes it into a 1-dimensional array without changing the order of the elements. This 1-dimensional array can then be fed into a neural network, which typically consists of fully connected layers that process the input data and produce the final output."
      ],
      "metadata": {
        "id": "YHwHybWw4p6B"
      }
    },
    {
      "cell_type": "code",
      "execution_count": null,
      "metadata": {
        "id": "YQMHVoh9jzZW"
      },
      "outputs": [],
      "source": [
        "model = keras.Sequential([\n",
        "    keras.layers.Flatten(input_shape=(28, 28)),\n",
        "    #keras.layers.Dense(64, activation='relu'),\n",
        "    #keras.layers.Dropout(0.2),\n",
        "    keras.layers.Dense(128, activation='relu'),\n",
        "    keras.layers.Dropout(0.2),\n",
        "    keras.layers.Dense(256, activation='relu'),\n",
        "    keras.layers.Dropout(0.2),\n",
        "    keras.layers.Dense(10, activation='softmax')\n",
        "]) \n"
      ]
    },
    {
      "cell_type": "markdown",
      "source": [
        "This code defines a neural network model using the Keras Sequential API.\n",
        "\n",
        "The model architecture consists of four layers:\n",
        "\n",
        "Flatten layer: This layer flattens the input 2D array of the image pixels into a 1D array of size 28*28=784.\n",
        "\n",
        "Dense layer: This is a fully connected layer with 128 units, which applies a linear transformation to the input and then applies the Rectified Linear Unit (ReLU) activation function to the output.\n",
        "\n",
        "Dropout layer: This is a regularization technique that randomly drops out (sets to zero) a fraction of the input units during training, which helps to prevent overfitting. The dropout rate used here is 0.2, which means that 20% of the input units will be randomly dropped out during each training iteration.\n",
        "\n",
        "Dense layer: This is another fully connected layer with 256 units and ReLU activation.\n",
        "\n",
        "Dropout layer: Another dropout layer with the same rate of 0.2 is added to prevent overfitting.\n",
        "\n",
        "Dense layer: This is the output layer with 10 units and softmax activation function, which outputs a probability distribution over the 10 possible classes of clothing items in the Fashion MNIST dataset."
      ],
      "metadata": {
        "id": "Z1vMWWCBIBZV"
      }
    },
    {
      "cell_type": "code",
      "execution_count": null,
      "metadata": {
        "colab": {
          "base_uri": "https://localhost:8080/"
        },
        "id": "jUarU13ERytY",
        "outputId": "812fadb3-aed7-4ad0-a2fa-32742a3d9181"
      },
      "outputs": [
        {
          "output_type": "stream",
          "name": "stdout",
          "text": [
            "Model: \"sequential\"\n",
            "_________________________________________________________________\n",
            " Layer (type)                Output Shape              Param #   \n",
            "=================================================================\n",
            " flatten (Flatten)           (None, 784)               0         \n",
            "                                                                 \n",
            " dense (Dense)               (None, 128)               100480    \n",
            "                                                                 \n",
            " dropout (Dropout)           (None, 128)               0         \n",
            "                                                                 \n",
            " dense_1 (Dense)             (None, 256)               33024     \n",
            "                                                                 \n",
            " dropout_1 (Dropout)         (None, 256)               0         \n",
            "                                                                 \n",
            " dense_2 (Dense)             (None, 10)                2570      \n",
            "                                                                 \n",
            "=================================================================\n",
            "Total params: 136,074\n",
            "Trainable params: 136,074\n",
            "Non-trainable params: 0\n",
            "_________________________________________________________________\n"
          ]
        }
      ],
      "source": [
        "model.summary()"
      ]
    },
    {
      "cell_type": "code",
      "execution_count": null,
      "metadata": {
        "colab": {
          "base_uri": "https://localhost:8080/"
        },
        "id": "lOwIhh3zkArx",
        "outputId": "5032a2ff-e6e0-4b0a-93c4-80b7bbf828f4"
      },
      "outputs": [
        {
          "output_type": "stream",
          "name": "stdout",
          "text": [
            "Epoch 1/20\n",
            "469/469 [==============================] - 7s 11ms/step - loss: 0.5900 - accuracy: 0.7901 - val_loss: 0.4280 - val_accuracy: 0.8454\n",
            "Epoch 2/20\n",
            "469/469 [==============================] - 4s 8ms/step - loss: 0.4146 - accuracy: 0.8486 - val_loss: 0.3875 - val_accuracy: 0.8596\n",
            "Epoch 3/20\n",
            "469/469 [==============================] - 4s 8ms/step - loss: 0.3772 - accuracy: 0.8631 - val_loss: 0.3800 - val_accuracy: 0.8592\n",
            "Epoch 4/20\n",
            "469/469 [==============================] - 5s 10ms/step - loss: 0.3540 - accuracy: 0.8705 - val_loss: 0.3735 - val_accuracy: 0.8643\n",
            "Epoch 5/20\n",
            "469/469 [==============================] - 4s 8ms/step - loss: 0.3362 - accuracy: 0.8764 - val_loss: 0.3459 - val_accuracy: 0.8732\n",
            "Epoch 6/20\n",
            "469/469 [==============================] - 4s 8ms/step - loss: 0.3211 - accuracy: 0.8820 - val_loss: 0.3450 - val_accuracy: 0.8732\n",
            "Epoch 7/20\n",
            "469/469 [==============================] - 4s 9ms/step - loss: 0.3136 - accuracy: 0.8824 - val_loss: 0.3293 - val_accuracy: 0.8805\n",
            "Epoch 8/20\n",
            "469/469 [==============================] - 4s 9ms/step - loss: 0.3015 - accuracy: 0.8876 - val_loss: 0.3332 - val_accuracy: 0.8789\n",
            "Epoch 9/20\n",
            "469/469 [==============================] - 4s 8ms/step - loss: 0.2943 - accuracy: 0.8893 - val_loss: 0.3342 - val_accuracy: 0.8798\n",
            "Epoch 10/20\n",
            "469/469 [==============================] - 4s 9ms/step - loss: 0.2851 - accuracy: 0.8933 - val_loss: 0.3275 - val_accuracy: 0.8822\n",
            "Epoch 11/20\n",
            "469/469 [==============================] - 4s 9ms/step - loss: 0.2784 - accuracy: 0.8960 - val_loss: 0.3229 - val_accuracy: 0.8852\n",
            "Epoch 12/20\n",
            "469/469 [==============================] - 4s 9ms/step - loss: 0.2731 - accuracy: 0.8967 - val_loss: 0.3264 - val_accuracy: 0.8848\n",
            "Epoch 13/20\n",
            "469/469 [==============================] - 5s 10ms/step - loss: 0.2688 - accuracy: 0.8987 - val_loss: 0.3213 - val_accuracy: 0.8867\n",
            "Epoch 14/20\n",
            "469/469 [==============================] - 4s 9ms/step - loss: 0.2621 - accuracy: 0.9009 - val_loss: 0.3266 - val_accuracy: 0.8855\n",
            "Epoch 15/20\n",
            "469/469 [==============================] - 4s 8ms/step - loss: 0.2597 - accuracy: 0.9014 - val_loss: 0.3160 - val_accuracy: 0.8882\n",
            "Epoch 16/20\n",
            "469/469 [==============================] - 4s 8ms/step - loss: 0.2532 - accuracy: 0.9054 - val_loss: 0.3239 - val_accuracy: 0.8868\n",
            "Epoch 17/20\n",
            "469/469 [==============================] - 5s 10ms/step - loss: 0.2483 - accuracy: 0.9052 - val_loss: 0.3182 - val_accuracy: 0.8870\n",
            "Epoch 18/20\n",
            "469/469 [==============================] - 4s 9ms/step - loss: 0.2498 - accuracy: 0.9045 - val_loss: 0.3235 - val_accuracy: 0.8838\n",
            "Epoch 19/20\n",
            "469/469 [==============================] - 4s 8ms/step - loss: 0.2415 - accuracy: 0.9076 - val_loss: 0.3182 - val_accuracy: 0.8886\n",
            "Epoch 20/20\n",
            "469/469 [==============================] - 5s 10ms/step - loss: 0.2382 - accuracy: 0.9097 - val_loss: 0.3179 - val_accuracy: 0.8890\n"
          ]
        }
      ],
      "source": [
        "# Compile the model with the optimizer, loss function, and evaluation metric\n",
        "model.compile(\n",
        "    optimizer=\"adam\", loss=\"categorical_crossentropy\", metrics=[\"accuracy\"]\n",
        ")\n",
        "\n",
        "# Define a callback to save the model with the highest validation accuracy\n",
        "checkpoint_callback = keras.callbacks.ModelCheckpoint(\n",
        "    \"best_model.h5\", monitor=\"val_accuracy\", save_best_only=True\n",
        ")\n",
        "\n",
        "# Train the model\n",
        "history = model.fit(\n",
        "    x_train,\n",
        "    y_train,\n",
        "    batch_size=128,\n",
        "    epochs=20,\n",
        "    validation_data=(x_test, y_test),\n",
        "    callbacks=[checkpoint_callback],\n",
        ")\n",
        "\n",
        "# Load the saved model with the highest validation accuracy\n",
        "best_model = keras.models.load_model(\"best_model.h5\")\n",
        "\n"
      ]
    },
    {
      "cell_type": "markdown",
      "source": [
        "This code compiles the defined neural network model with an optimizer, loss function, and evaluation metric, using the compile() method of the Keras Sequential API.\n",
        "\n",
        "The optimizer used here is the Adam optimizer, which is a popular optimization algorithm for deep learning models. The loss function used is categorical cross-entropy, which is a common loss function for multi-class classification problems. The evaluation metric used is accuracy, which measures the fraction of correctly classified samples.\n",
        "\n",
        "Next, a callback function ModelCheckpoint is defined, which is used to save the model with the highest validation accuracy during training. The monitor parameter specifies the metric to monitor, which is validation accuracy in this case. The save_best_only parameter ensures that only the best model (based on the monitored metric) is saved.\n",
        "\n",
        "The model is then trained on the training data x_train and y_train using the fit() method of the model. The batch_size parameter specifies the number of samples per gradient update, and the epochs parameter specifies the number of times to iterate over the entire training dataset. The validation_data parameter is used to evaluate the model on the test data x_test and y_test after each epoch. The callbacks parameter is used to pass in the previously defined ModelCheckpoint callback function.\n",
        "\n",
        "Finally, the saved model with the highest validation accuracy is loaded using the load_model() function of Keras models API, and stored in the variable best_model. This saved model can be used for making predictions on new data or further training the model."
      ],
      "metadata": {
        "id": "wPk9ZlBuItrV"
      }
    },
    {
      "cell_type": "code",
      "execution_count": null,
      "metadata": {
        "colab": {
          "base_uri": "https://localhost:8080/"
        },
        "id": "60SVaXKmtGcB",
        "outputId": "82d59255-2c61-4b8e-e2e3-18620f92c138"
      },
      "outputs": [
        {
          "output_type": "stream",
          "name": "stdout",
          "text": [
            "313/313 [==============================] - 1s 2ms/step - loss: 0.3179 - accuracy: 0.8890\n",
            "Test loss: 0.3179\n",
            "Test accuracy: 0.8890\n"
          ]
        }
      ],
      "source": [
        "# Evaluate the best model on the test data\n",
        "test_loss, test_accuracy = best_model.evaluate(x_test, y_test)\n",
        "print(f\"Test loss: {test_loss:.4f}\")\n",
        "print(f\"Test accuracy: {test_accuracy:.4f}\")"
      ]
    },
    {
      "cell_type": "code",
      "execution_count": null,
      "metadata": {
        "colab": {
          "base_uri": "https://localhost:8080/",
          "height": 573
        },
        "id": "qYfussTGa4cc",
        "outputId": "8c68d978-b5cc-4051-f380-1e50ccf48f58"
      },
      "outputs": [
        {
          "output_type": "display_data",
          "data": {
            "text/plain": [
              "<Figure size 432x288 with 1 Axes>"
            ],
            "image/png": "[encoded data removed]"
          },
          "metadata": {
            "needs_background": "light"
          }
        },
        {
          "output_type": "display_data",
          "data": {
            "text/plain": [
              "<Figure size 432x288 with 1 Axes>"
            ],
            "image/png": "[encoded data removed]"
          },
          "metadata": {
            "needs_background": "light"
          }
        }
      ],
      "source": [
        "# summarize the history for accuracy\n",
        "plt.plot(history.history['accuracy'])\n",
        "plt.plot(history.history['val_accuracy'])\n",
        "plt.title('model accuracy')\n",
        "plt.ylabel('accuracy')\n",
        "plt.xlabel('epoch')\n",
        "plt.legend(['train','test'], loc='upper left')\n",
        "plt.show()\n",
        "\n",
        "# summarize the history for loss\n",
        "plt.plot(history.history['loss'])\n",
        "plt.plot(history.history['val_loss'])\n",
        "plt.title('model loss')\n",
        "plt.ylabel('loss')\n",
        "plt.xlabel('epoch')\n",
        "plt.legend(['train','test'], loc='upper left')\n",
        "plt.show()"
      ]
    },
    {
      "cell_type": "markdown",
      "source": [
        "##Augment the MNIST dataset with rotated, zoomed, width and height shifts"
      ],
      "metadata": {
        "id": "GPrVcbExYxxO"
      }
    },
    {
      "cell_type": "code",
      "execution_count": null,
      "metadata": {
        "colab": {
          "base_uri": "https://localhost:8080/"
        },
        "id": "_Wc1VOIZaKCa",
        "outputId": "964e835b-e099-4d66-b7a9-d85ebcdcb43f"
      },
      "outputs": [
        {
          "output_type": "stream",
          "name": "stdout",
          "text": [
            "0\n",
            "(120000, 28, 28, 1)\n",
            "(120000, 10)\n",
            "1\n",
            "(180000, 28, 28, 1)\n",
            "(180000, 10)\n",
            "0\n",
            "(10000, 28, 28, 1)\n",
            "(10000, 10)\n",
            "1\n",
            "(10000, 28, 28, 1)\n",
            "(10000, 10)\n"
          ]
        }
      ],
      "source": [
        "# use the image data generator from keras to augment the data\n",
        "from keras.preprocessing.image import ImageDataGenerator\n",
        "# setup the generator that will augment the images\n",
        "train_gen = ImageDataGenerator(rotation_range=8,   # rotate\n",
        "                               width_shift_range=0.08,  # width shiift\n",
        "                               shear_range=0.3,   # shear\n",
        "                               height_shift_range=0.08, # height shift\n",
        "                               zoom_range=0.08 )   # zoom\n",
        "\n",
        "\n",
        "# Generate aungemnted images for the training data\n",
        "x_train = np.reshape(x_train, (60000,28,28,1))\n",
        "training_set = train_gen.flow(x_train, y_train, batch_size=x_train.shape[0])\n",
        "\n",
        "# Generate aungemnted images for the test data\n",
        "x_test = np.reshape(x_test, (10000,28,28,1))\n",
        "test_set= train_gen.flow(x_test, y_test, batch_size=x_test.shape[0])\n",
        "\n",
        "# extract the augmented images from the output flow of the generator\n",
        "# add the augmented images generated from the training data to the original training data\n",
        "i = 0\n",
        "for x, y in training_set:\n",
        "  if i < 2:\n",
        "    print(i)\n",
        "    x_train = np.concatenate((x_train, x))\n",
        "    y_train = np.concatenate((y_train, y))\n",
        "    print(x_train.shape)\n",
        "    print(y_train.shape)\n",
        "  else:\n",
        "    break\n",
        "  i += 1\n",
        "\n",
        "# add the augmented images generated from the test data to the original test data\n",
        "i = 0\n",
        "for x, y in test_set:\n",
        "  if i < 2:\n",
        "    print(i)\n",
        "    x_test_aug = np.concatenate((x_test, x))\n",
        "    y_test_aug = np.concatenate((y_test, y))\n",
        "    print(x_test.shape)\n",
        "    print(y_test.shape)\n",
        "  else:\n",
        "    break\n",
        "  i += 1"
      ]
    },
    {
      "cell_type": "markdown",
      "source": [
        "This code uses the Keras ImageDataGenerator to augment the training and test data. Image augmentation is a technique used to increase the size of the training dataset by generating new images from the existing ones. This can help prevent overfitting and improve the performance of the model.\n",
        "\n",
        "The train_gen object is defined as an instance of ImageDataGenerator, with various augmentation parameters specified such as rotation_range, width_shift_range, shear_range, height_shift_range, and zoom_range.\n",
        "\n",
        "The flow method of the ImageDataGenerator object is then called on the original x_train and y_train data to generate augmented images for the training data, and on the original x_test and y_test data to generate augmented images for the test data. The batch_size parameter is set to the shape of the input data to ensure that the entire dataset is generated at once.\n",
        "\n",
        "The augmented images generated by the ImageDataGenerator are output as a flow, which can be used to extract the augmented images using a loop. The loop first reshapes the original data to match the shape of the generated data, and then concatenates the generated data to the original data.\n",
        "\n",
        "In the first loop, the augmented images generated from the training data are added to the original training data x_train and y_train. In the second loop, the augmented images generated from the test data are added to the original test data x_test and y_test. The loop is set to break after adding two batches of augmented images, but this can be adjusted as needed.\n",
        "\n",
        "Overall, this code generates new augmented images for the training and test data using the ImageDataGenerator, and adds them to the original data to create a larger and more diverse dataset for training and testing the neural network model."
      ],
      "metadata": {
        "id": "vSKbmGG3Jk21"
      }
    },
    {
      "cell_type": "markdown",
      "source": [
        "##Create, compile and fit the model with the augmented MNIST data"
      ],
      "metadata": {
        "id": "wxNdvX8DZktd"
      }
    },
    {
      "cell_type": "code",
      "execution_count": null,
      "metadata": {
        "colab": {
          "base_uri": "https://localhost:8080/"
        },
        "id": "bHmXmEMsaPgH",
        "outputId": "d6419250-0ae5-47e1-88f0-75e8b28cb337"
      },
      "outputs": [
        {
          "output_type": "stream",
          "name": "stdout",
          "text": [
            "Model: \"sequential_1\"\n",
            "_________________________________________________________________\n",
            " Layer (type)                Output Shape              Param #   \n",
            "=================================================================\n",
            " flatten_1 (Flatten)         (None, 784)               0         \n",
            "                                                                 \n",
            " dense_3 (Dense)             (None, 784)               615440    \n",
            "                                                                 \n",
            " dropout_2 (Dropout)         (None, 784)               0         \n",
            "                                                                 \n",
            " dense_4 (Dense)             (None, 10)                7850      \n",
            "                                                                 \n",
            "=================================================================\n",
            "Total params: 623,290\n",
            "Trainable params: 623,290\n",
            "Non-trainable params: 0\n",
            "_________________________________________________________________\n"
          ]
        }
      ],
      "source": [
        "from keras.layers import Dropout\n",
        "\n",
        "# Define the model architecture\n",
        "model = keras.Sequential([\n",
        "    keras.layers.Flatten(input_shape=(28, 28)),\n",
        "    keras.layers.Dense(784, activation='relu'),\n",
        "    keras.layers.Dropout(0.2),\n",
        "    #keras.layers.Dense(256, activation='relu'),\n",
        "    #keras.layers.Dropout(0.2),\n",
        "    keras.layers.Dense(10, activation='softmax')\n",
        "])\n",
        "  \n",
        "model.summary()\n"
      ]
    },
    {
      "cell_type": "code",
      "source": [
        "# Compile the model with the optimizer, loss function, and evaluation metric\n",
        "model.compile(optimizer = 'adam', loss = 'categorical_crossentropy', metrics = ['accuracy'])\n",
        "\n",
        "# Train the model with dropout\n",
        "history = model.fit(x_train, y_train, epochs = 30, validation_data = (x_test, y_test))"
      ],
      "metadata": {
        "colab": {
          "base_uri": "https://localhost:8080/"
        },
        "id": "-VyFagWaGcrD",
        "outputId": "d65e92b8-6a9e-4134-adaf-04c95fd781ab"
      },
      "execution_count": null,
      "outputs": [
        {
          "output_type": "stream",
          "name": "stdout",
          "text": [
            "Epoch 1/30\n",
            "5625/5625 [==============================] - 58s 10ms/step - loss: 0.5712 - accuracy: 0.7854 - val_loss: 0.3850 - val_accuracy: 0.8598\n",
            "Epoch 2/30\n",
            "5625/5625 [==============================] - 57s 10ms/step - loss: 0.4684 - accuracy: 0.8237 - val_loss: 0.3673 - val_accuracy: 0.8659\n",
            "Epoch 3/30\n",
            "5625/5625 [==============================] - 58s 10ms/step - loss: 0.4369 - accuracy: 0.8359 - val_loss: 0.3789 - val_accuracy: 0.8598\n",
            "Epoch 4/30\n",
            "5625/5625 [==============================] - 57s 10ms/step - loss: 0.4174 - accuracy: 0.8431 - val_loss: 0.3433 - val_accuracy: 0.8735\n",
            "Epoch 5/30\n",
            "5625/5625 [==============================] - 58s 10ms/step - loss: 0.4028 - accuracy: 0.8487 - val_loss: 0.3398 - val_accuracy: 0.8798\n",
            "Epoch 6/30\n",
            "5625/5625 [==============================] - 57s 10ms/step - loss: 0.3924 - accuracy: 0.8537 - val_loss: 0.3375 - val_accuracy: 0.8806\n",
            "Epoch 7/30\n",
            "5625/5625 [==============================] - 59s 10ms/step - loss: 0.3823 - accuracy: 0.8570 - val_loss: 0.3399 - val_accuracy: 0.8805\n",
            "Epoch 8/30\n",
            "5625/5625 [==============================] - 57s 10ms/step - loss: 0.3740 - accuracy: 0.8594 - val_loss: 0.3401 - val_accuracy: 0.8812\n",
            "Epoch 9/30\n",
            "5625/5625 [==============================] - 59s 10ms/step - loss: 0.3670 - accuracy: 0.8622 - val_loss: 0.3379 - val_accuracy: 0.8844\n",
            "Epoch 10/30\n",
            "5625/5625 [==============================] - 56s 10ms/step - loss: 0.3605 - accuracy: 0.8644 - val_loss: 0.3423 - val_accuracy: 0.8827\n",
            "Epoch 11/30\n",
            "5625/5625 [==============================] - 56s 10ms/step - loss: 0.3515 - accuracy: 0.8673 - val_loss: 0.3278 - val_accuracy: 0.8856\n",
            "Epoch 12/30\n",
            "5625/5625 [==============================] - 58s 10ms/step - loss: 0.3495 - accuracy: 0.8681 - val_loss: 0.3380 - val_accuracy: 0.8838\n",
            "Epoch 13/30\n",
            "5625/5625 [==============================] - 57s 10ms/step - loss: 0.3422 - accuracy: 0.8703 - val_loss: 0.3520 - val_accuracy: 0.8805\n",
            "Epoch 14/30\n",
            "5625/5625 [==============================] - 56s 10ms/step - loss: 0.3374 - accuracy: 0.8727 - val_loss: 0.3266 - val_accuracy: 0.8879\n",
            "Epoch 15/30\n",
            "5625/5625 [==============================] - 57s 10ms/step - loss: 0.3348 - accuracy: 0.8731 - val_loss: 0.3343 - val_accuracy: 0.8897\n",
            "Epoch 16/30\n",
            "5625/5625 [==============================] - 56s 10ms/step - loss: 0.3287 - accuracy: 0.8751 - val_loss: 0.3366 - val_accuracy: 0.8911\n",
            "Epoch 17/30\n",
            "5625/5625 [==============================] - 58s 10ms/step - loss: 0.3250 - accuracy: 0.8770 - val_loss: 0.3462 - val_accuracy: 0.8842\n",
            "Epoch 18/30\n",
            "5625/5625 [==============================] - 57s 10ms/step - loss: 0.3210 - accuracy: 0.8787 - val_loss: 0.3404 - val_accuracy: 0.8898\n",
            "Epoch 19/30\n",
            "5625/5625 [==============================] - 56s 10ms/step - loss: 0.3186 - accuracy: 0.8792 - val_loss: 0.3272 - val_accuracy: 0.8916\n",
            "Epoch 20/30\n",
            "5625/5625 [==============================] - 58s 10ms/step - loss: 0.3134 - accuracy: 0.8813 - val_loss: 0.3592 - val_accuracy: 0.8811\n",
            "Epoch 21/30\n",
            "5625/5625 [==============================] - 56s 10ms/step - loss: 0.3133 - accuracy: 0.8812 - val_loss: 0.3554 - val_accuracy: 0.8900\n",
            "Epoch 22/30\n",
            "5625/5625 [==============================] - 58s 10ms/step - loss: 0.3062 - accuracy: 0.8841 - val_loss: 0.3521 - val_accuracy: 0.8903\n",
            "Epoch 23/30\n",
            "5625/5625 [==============================] - 58s 10ms/step - loss: 0.3050 - accuracy: 0.8843 - val_loss: 0.3502 - val_accuracy: 0.8945\n",
            "Epoch 24/30\n",
            "5625/5625 [==============================] - 57s 10ms/step - loss: 0.3024 - accuracy: 0.8854 - val_loss: 0.3591 - val_accuracy: 0.8885\n",
            "Epoch 25/30\n",
            "5625/5625 [==============================] - 57s 10ms/step - loss: 0.2982 - accuracy: 0.8872 - val_loss: 0.3468 - val_accuracy: 0.8877\n",
            "Epoch 26/30\n",
            "5625/5625 [==============================] - 57s 10ms/step - loss: 0.2958 - accuracy: 0.8879 - val_loss: 0.3422 - val_accuracy: 0.8952\n",
            "Epoch 27/30\n",
            "5625/5625 [==============================] - 57s 10ms/step - loss: 0.2955 - accuracy: 0.8885 - val_loss: 0.3599 - val_accuracy: 0.8949\n",
            "Epoch 28/30\n",
            "5625/5625 [==============================] - 56s 10ms/step - loss: 0.2898 - accuracy: 0.8899 - val_loss: 0.3397 - val_accuracy: 0.8957\n",
            "Epoch 29/30\n",
            "5625/5625 [==============================] - 57s 10ms/step - loss: 0.2889 - accuracy: 0.8906 - val_loss: 0.3705 - val_accuracy: 0.8903\n",
            "Epoch 30/30\n",
            "5625/5625 [==============================] - 57s 10ms/step - loss: 0.2861 - accuracy: 0.8914 - val_loss: 0.3566 - val_accuracy: 0.8940\n"
          ]
        }
      ]
    },
    {
      "cell_type": "markdown",
      "source": [
        "This code defines a neural network model with 3 layers using the Keras Sequential API. The input layer is a Flatten layer that flattens the 2D input images to a 1D vector. The first hidden layer is a Dense layer with 784 units and ReLU activation function. A Dropout layer with a rate of 0.2 is added after the first hidden layer to prevent overfitting. The output layer is a Dense layer with 10 units and a softmax activation function that outputs the probability distribution over the 10 classes of the Fashion MNIST dataset.\n",
        "\n",
        "The model is compiled using the Adam optimizer, categorical cross-entropy loss function, and accuracy metric for evaluation. The model is then trained for 100 epochs on the training data (x_train and y_train) with the validation data (x_test and y_test) used for evaluation during training. The training history is stored in the history variable."
      ],
      "metadata": {
        "id": "lUAuzrFPKfI7"
      }
    },
    {
      "cell_type": "code",
      "execution_count": null,
      "metadata": {
        "id": "jaY_8eu9oGST",
        "colab": {
          "base_uri": "https://localhost:8080/",
          "height": 573
        },
        "outputId": "e9c1470b-2bdc-4f43-8b6a-9d98dcb12b5e"
      },
      "outputs": [
        {
          "output_type": "display_data",
          "data": {
            "text/plain": [
              "<Figure size 432x288 with 1 Axes>"
            ],
            "image/png": "[encoded data removed]"
          },
          "metadata": {
            "needs_background": "light"
          }
        },
        {
          "output_type": "display_data",
          "data": {
            "text/plain": [
              "<Figure size 432x288 with 1 Axes>"
            ],
            "image/png": "[encoded data removed]"
          },
          "metadata": {
            "needs_background": "light"
          }
        }
      ],
      "source": [
        "# summarize the history for accuracy\n",
        "plt.plot(history.history['accuracy'])\n",
        "plt.plot(history.history['val_accuracy'])\n",
        "plt.title('model accuracy')\n",
        "plt.ylabel('accuracy')\n",
        "plt.xlabel('epoch')\n",
        "plt.legend(['train','test'], loc='upper left')\n",
        "plt.show()\n",
        "\n",
        "# summarize the history for loss\n",
        "plt.plot(history.history['loss'])\n",
        "plt.plot(history.history['val_loss'])\n",
        "plt.title('model loss')\n",
        "plt.ylabel('loss')\n",
        "plt.xlabel('epoch')\n",
        "plt.legend(['train','test'], loc='upper left')\n",
        "plt.show()"
      ]
    },
    {
      "cell_type": "code",
      "execution_count": null,
      "metadata": {
        "id": "3eS2GHekd4DR"
      },
      "outputs": [],
      "source": []
    },
    {
      "cell_type": "code",
      "execution_count": null,
      "metadata": {
        "id": "gv8COZyxd4Nv"
      },
      "outputs": [],
      "source": []
    }
  ],
  "metadata": {
    "colab": {
      "provenance": []
    },
    "kernelspec": {
      "display_name": "Python 3",
      "name": "python3"
    },
    "language_info": {
      "name": "python"
    }
  },
  "nbformat": 4,
  "nbformat_minor": 0
}